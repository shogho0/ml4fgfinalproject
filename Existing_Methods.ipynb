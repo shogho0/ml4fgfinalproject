{
  "nbformat": 4,
  "nbformat_minor": 0,
  "metadata": {
    "colab": {
      "provenance": []
    },
    "kernelspec": {
      "name": "python3",
      "display_name": "Python 3"
    },
    "language_info": {
      "name": "python"
    }
  },
  "cells": [
    {
      "cell_type": "markdown",
      "source": [
        "# ML4FG Final Report: Modeling Colorectal Cancer Gene Expression Distributions using Mixture Models\n",
        "\n",
        "Authors: Shomik Ghose (sg3789@columbia.edu), Austin Tao (alt2177@columbia.edu)"
      ],
      "metadata": {
        "id": "njO9lOmw29Va"
      }
    },
    {
      "cell_type": "code",
      "execution_count": null,
      "metadata": {
        "id": "wla7SmxQucuZ"
      },
      "outputs": [],
      "source": [
        "#Import necessary packages\n",
        "import pandas as pd\n",
        "import numpy as np\n",
        "import matplotlib as mpl\n",
        "import matplotlib.pyplot as plt"
      ]
    },
    {
      "cell_type": "code",
      "source": [
        "from google.colab import drive\n",
        "drive.mount('/content/drive')"
      ],
      "metadata": {
        "colab": {
          "base_uri": "https://localhost:8080/"
        },
        "id": "vLx-PK9Vv2y7",
        "outputId": "4b76a440-4777-4171-c4b0-86613640b257"
      },
      "execution_count": null,
      "outputs": [
        {
          "output_type": "stream",
          "name": "stdout",
          "text": [
            "Drive already mounted at /content/drive; to attempt to forcibly remount, call drive.mount(\"/content/drive\", force_remount=True).\n"
          ]
        }
      ]
    },
    {
      "cell_type": "markdown",
      "source": [
        "# Data Reading and Preprocessing"
      ],
      "metadata": {
        "id": "0dzOsVmm3EQS"
      }
    },
    {
      "cell_type": "code",
      "source": [
        "#Importing dataset\n",
        "df = pd.read_csv(\"drive/MyDrive/ML4FG Final Project/Bodmer_microarray_phenotype.csv\",index_col=0)\n",
        "df.head()"
      ],
      "metadata": {
        "colab": {
          "base_uri": "https://localhost:8080/",
          "height": 299
        },
        "id": "wmNoKV_Xw-bl",
        "outputId": "fc1a5c56-dba7-4407-895b-22778244a5c5"
      },
      "execution_count": null,
      "outputs": [
        {
          "output_type": "execute_result",
          "data": {
            "text/plain": [
              "             C10      C106    C125PM       C32       C70       C75       C80  \\\n",
              "DDR1    11.10390  11.07910  11.17970  11.50680  11.08760  11.33030  11.09560   \n",
              "RFC2     9.45475   9.00771   9.86042   9.52498   9.53370   8.79881   7.31596   \n",
              "HSPA6    6.33489   6.08624   5.99624   6.29194   5.76445   5.87747   5.89491   \n",
              "PAX8     8.34283   8.80605   8.27972   8.97679   8.61314   8.24204   8.42736   \n",
              "GUCA1A   3.77159   3.68338   3.91228   3.73648   3.64068   3.81183   3.76107   \n",
              "\n",
              "             C84       C99     CACO2  ...     SW403      SW48     SW480  \\\n",
              "DDR1    11.21460  11.53890  10.14060  ...  11.15560  11.43050  11.04630   \n",
              "RFC2     9.19284   7.42561   9.42345  ...   9.39105  10.02960  10.24310   \n",
              "HSPA6    5.85956   5.78572   5.63281  ...   5.97411   5.91963   5.75286   \n",
              "PAX8     8.63846   8.51370   8.27960  ...   8.43641   8.69135   8.96714   \n",
              "GUCA1A   3.78736   3.89909   3.70464  ...   3.68933   3.80050   3.94595   \n",
              "\n",
              "           SW837     SW948       T84  VACO10MS   VACO429   VACO4A     VACO5  \n",
              "DDR1    11.10180  11.32870  10.85770  11.01680  11.20140  9.80261   9.81900  \n",
              "RFC2     9.57473   9.67545   9.74446   9.24474   8.27504  9.62195  10.30300  \n",
              "HSPA6    6.08853   5.73124   5.94438   5.90822   6.55251  6.08932   5.82700  \n",
              "PAX8     8.78303   8.99510   8.36773   8.94381   8.31004  8.47219   8.28388  \n",
              "GUCA1A   3.78618   3.74473   3.90953   4.00774   3.63841  4.01677   3.74778  \n",
              "\n",
              "[5 rows x 78 columns]"
            ],
            "text/html": [
              "\n",
              "  <div id=\"df-9d8221ee-513f-4119-883a-0d516a4f50b1\">\n",
              "    <div class=\"colab-df-container\">\n",
              "      <div>\n",
              "<style scoped>\n",
              "    .dataframe tbody tr th:only-of-type {\n",
              "        vertical-align: middle;\n",
              "    }\n",
              "\n",
              "    .dataframe tbody tr th {\n",
              "        vertical-align: top;\n",
              "    }\n",
              "\n",
              "    .dataframe thead th {\n",
              "        text-align: right;\n",
              "    }\n",
              "</style>\n",
              "<table border=\"1\" class=\"dataframe\">\n",
              "  <thead>\n",
              "    <tr style=\"text-align: right;\">\n",
              "      <th></th>\n",
              "      <th>C10</th>\n",
              "      <th>C106</th>\n",
              "      <th>C125PM</th>\n",
              "      <th>C32</th>\n",
              "      <th>C70</th>\n",
              "      <th>C75</th>\n",
              "      <th>C80</th>\n",
              "      <th>C84</th>\n",
              "      <th>C99</th>\n",
              "      <th>CACO2</th>\n",
              "      <th>...</th>\n",
              "      <th>SW403</th>\n",
              "      <th>SW48</th>\n",
              "      <th>SW480</th>\n",
              "      <th>SW837</th>\n",
              "      <th>SW948</th>\n",
              "      <th>T84</th>\n",
              "      <th>VACO10MS</th>\n",
              "      <th>VACO429</th>\n",
              "      <th>VACO4A</th>\n",
              "      <th>VACO5</th>\n",
              "    </tr>\n",
              "  </thead>\n",
              "  <tbody>\n",
              "    <tr>\n",
              "      <th>DDR1</th>\n",
              "      <td>11.10390</td>\n",
              "      <td>11.07910</td>\n",
              "      <td>11.17970</td>\n",
              "      <td>11.50680</td>\n",
              "      <td>11.08760</td>\n",
              "      <td>11.33030</td>\n",
              "      <td>11.09560</td>\n",
              "      <td>11.21460</td>\n",
              "      <td>11.53890</td>\n",
              "      <td>10.14060</td>\n",
              "      <td>...</td>\n",
              "      <td>11.15560</td>\n",
              "      <td>11.43050</td>\n",
              "      <td>11.04630</td>\n",
              "      <td>11.10180</td>\n",
              "      <td>11.32870</td>\n",
              "      <td>10.85770</td>\n",
              "      <td>11.01680</td>\n",
              "      <td>11.20140</td>\n",
              "      <td>9.80261</td>\n",
              "      <td>9.81900</td>\n",
              "    </tr>\n",
              "    <tr>\n",
              "      <th>RFC2</th>\n",
              "      <td>9.45475</td>\n",
              "      <td>9.00771</td>\n",
              "      <td>9.86042</td>\n",
              "      <td>9.52498</td>\n",
              "      <td>9.53370</td>\n",
              "      <td>8.79881</td>\n",
              "      <td>7.31596</td>\n",
              "      <td>9.19284</td>\n",
              "      <td>7.42561</td>\n",
              "      <td>9.42345</td>\n",
              "      <td>...</td>\n",
              "      <td>9.39105</td>\n",
              "      <td>10.02960</td>\n",
              "      <td>10.24310</td>\n",
              "      <td>9.57473</td>\n",
              "      <td>9.67545</td>\n",
              "      <td>9.74446</td>\n",
              "      <td>9.24474</td>\n",
              "      <td>8.27504</td>\n",
              "      <td>9.62195</td>\n",
              "      <td>10.30300</td>\n",
              "    </tr>\n",
              "    <tr>\n",
              "      <th>HSPA6</th>\n",
              "      <td>6.33489</td>\n",
              "      <td>6.08624</td>\n",
              "      <td>5.99624</td>\n",
              "      <td>6.29194</td>\n",
              "      <td>5.76445</td>\n",
              "      <td>5.87747</td>\n",
              "      <td>5.89491</td>\n",
              "      <td>5.85956</td>\n",
              "      <td>5.78572</td>\n",
              "      <td>5.63281</td>\n",
              "      <td>...</td>\n",
              "      <td>5.97411</td>\n",
              "      <td>5.91963</td>\n",
              "      <td>5.75286</td>\n",
              "      <td>6.08853</td>\n",
              "      <td>5.73124</td>\n",
              "      <td>5.94438</td>\n",
              "      <td>5.90822</td>\n",
              "      <td>6.55251</td>\n",
              "      <td>6.08932</td>\n",
              "      <td>5.82700</td>\n",
              "    </tr>\n",
              "    <tr>\n",
              "      <th>PAX8</th>\n",
              "      <td>8.34283</td>\n",
              "      <td>8.80605</td>\n",
              "      <td>8.27972</td>\n",
              "      <td>8.97679</td>\n",
              "      <td>8.61314</td>\n",
              "      <td>8.24204</td>\n",
              "      <td>8.42736</td>\n",
              "      <td>8.63846</td>\n",
              "      <td>8.51370</td>\n",
              "      <td>8.27960</td>\n",
              "      <td>...</td>\n",
              "      <td>8.43641</td>\n",
              "      <td>8.69135</td>\n",
              "      <td>8.96714</td>\n",
              "      <td>8.78303</td>\n",
              "      <td>8.99510</td>\n",
              "      <td>8.36773</td>\n",
              "      <td>8.94381</td>\n",
              "      <td>8.31004</td>\n",
              "      <td>8.47219</td>\n",
              "      <td>8.28388</td>\n",
              "    </tr>\n",
              "    <tr>\n",
              "      <th>GUCA1A</th>\n",
              "      <td>3.77159</td>\n",
              "      <td>3.68338</td>\n",
              "      <td>3.91228</td>\n",
              "      <td>3.73648</td>\n",
              "      <td>3.64068</td>\n",
              "      <td>3.81183</td>\n",
              "      <td>3.76107</td>\n",
              "      <td>3.78736</td>\n",
              "      <td>3.89909</td>\n",
              "      <td>3.70464</td>\n",
              "      <td>...</td>\n",
              "      <td>3.68933</td>\n",
              "      <td>3.80050</td>\n",
              "      <td>3.94595</td>\n",
              "      <td>3.78618</td>\n",
              "      <td>3.74473</td>\n",
              "      <td>3.90953</td>\n",
              "      <td>4.00774</td>\n",
              "      <td>3.63841</td>\n",
              "      <td>4.01677</td>\n",
              "      <td>3.74778</td>\n",
              "    </tr>\n",
              "  </tbody>\n",
              "</table>\n",
              "<p>5 rows × 78 columns</p>\n",
              "</div>\n",
              "      <button class=\"colab-df-convert\" onclick=\"convertToInteractive('df-9d8221ee-513f-4119-883a-0d516a4f50b1')\"\n",
              "              title=\"Convert this dataframe to an interactive table.\"\n",
              "              style=\"display:none;\">\n",
              "        \n",
              "  <svg xmlns=\"http://www.w3.org/2000/svg\" height=\"24px\"viewBox=\"0 0 24 24\"\n",
              "       width=\"24px\">\n",
              "    <path d=\"M0 0h24v24H0V0z\" fill=\"none\"/>\n",
              "    <path d=\"M18.56 5.44l.94 2.06.94-2.06 2.06-.94-2.06-.94-.94-2.06-.94 2.06-2.06.94zm-11 1L8.5 8.5l.94-2.06 2.06-.94-2.06-.94L8.5 2.5l-.94 2.06-2.06.94zm10 10l.94 2.06.94-2.06 2.06-.94-2.06-.94-.94-2.06-.94 2.06-2.06.94z\"/><path d=\"M17.41 7.96l-1.37-1.37c-.4-.4-.92-.59-1.43-.59-.52 0-1.04.2-1.43.59L10.3 9.45l-7.72 7.72c-.78.78-.78 2.05 0 2.83L4 21.41c.39.39.9.59 1.41.59.51 0 1.02-.2 1.41-.59l7.78-7.78 2.81-2.81c.8-.78.8-2.07 0-2.86zM5.41 20L4 18.59l7.72-7.72 1.47 1.35L5.41 20z\"/>\n",
              "  </svg>\n",
              "      </button>\n",
              "      \n",
              "  <style>\n",
              "    .colab-df-container {\n",
              "      display:flex;\n",
              "      flex-wrap:wrap;\n",
              "      gap: 12px;\n",
              "    }\n",
              "\n",
              "    .colab-df-convert {\n",
              "      background-color: #E8F0FE;\n",
              "      border: none;\n",
              "      border-radius: 50%;\n",
              "      cursor: pointer;\n",
              "      display: none;\n",
              "      fill: #1967D2;\n",
              "      height: 32px;\n",
              "      padding: 0 0 0 0;\n",
              "      width: 32px;\n",
              "    }\n",
              "\n",
              "    .colab-df-convert:hover {\n",
              "      background-color: #E2EBFA;\n",
              "      box-shadow: 0px 1px 2px rgba(60, 64, 67, 0.3), 0px 1px 3px 1px rgba(60, 64, 67, 0.15);\n",
              "      fill: #174EA6;\n",
              "    }\n",
              "\n",
              "    [theme=dark] .colab-df-convert {\n",
              "      background-color: #3B4455;\n",
              "      fill: #D2E3FC;\n",
              "    }\n",
              "\n",
              "    [theme=dark] .colab-df-convert:hover {\n",
              "      background-color: #434B5C;\n",
              "      box-shadow: 0px 1px 3px 1px rgba(0, 0, 0, 0.15);\n",
              "      filter: drop-shadow(0px 1px 2px rgba(0, 0, 0, 0.3));\n",
              "      fill: #FFFFFF;\n",
              "    }\n",
              "  </style>\n",
              "\n",
              "      <script>\n",
              "        const buttonEl =\n",
              "          document.querySelector('#df-9d8221ee-513f-4119-883a-0d516a4f50b1 button.colab-df-convert');\n",
              "        buttonEl.style.display =\n",
              "          google.colab.kernel.accessAllowed ? 'block' : 'none';\n",
              "\n",
              "        async function convertToInteractive(key) {\n",
              "          const element = document.querySelector('#df-9d8221ee-513f-4119-883a-0d516a4f50b1');\n",
              "          const dataTable =\n",
              "            await google.colab.kernel.invokeFunction('convertToInteractive',\n",
              "                                                     [key], {});\n",
              "          if (!dataTable) return;\n",
              "\n",
              "          const docLinkHtml = 'Like what you see? Visit the ' +\n",
              "            '<a target=\"_blank\" href=https://colab.research.google.com/notebooks/data_table.ipynb>data table notebook</a>'\n",
              "            + ' to learn more about interactive tables.';\n",
              "          element.innerHTML = '';\n",
              "          dataTable['output_type'] = 'display_data';\n",
              "          await google.colab.output.renderOutput(dataTable, element);\n",
              "          const docLink = document.createElement('div');\n",
              "          docLink.innerHTML = docLinkHtml;\n",
              "          element.appendChild(docLink);\n",
              "        }\n",
              "      </script>\n",
              "    </div>\n",
              "  </div>\n",
              "  "
            ]
          },
          "metadata": {},
          "execution_count": 5
        }
      ]
    },
    {
      "cell_type": "code",
      "source": [
        "df.shape"
      ],
      "metadata": {
        "colab": {
          "base_uri": "https://localhost:8080/"
        },
        "id": "_3r8T8snxRGz",
        "outputId": "c7388f0e-d93a-49de-a83b-e23fcc324871"
      },
      "execution_count": null,
      "outputs": [
        {
          "output_type": "execute_result",
          "data": {
            "text/plain": [
              "(54702, 78)"
            ]
          },
          "metadata": {},
          "execution_count": 6
        }
      ]
    },
    {
      "cell_type": "markdown",
      "source": [
        "The dataset contains 54,702 genes and 78 samples. The samples represent colorectal cancer cell lines.\n",
        "\n",
        "Ex. The link to the C10 sample is here: https://www.cancertools.org/cell-lines/151755"
      ],
      "metadata": {
        "id": "pRKWF_Hqxyj7"
      }
    },
    {
      "cell_type": "code",
      "source": [
        "df.index.unique()"
      ],
      "metadata": {
        "colab": {
          "base_uri": "https://localhost:8080/"
        },
        "id": "Iv4wyPCiZHjB",
        "outputId": "0fd8d620-6be4-47ef-d1aa-b5c33cbe2069"
      },
      "execution_count": null,
      "outputs": [
        {
          "output_type": "execute_result",
          "data": {
            "text/plain": [
              "Index(['DDR1', 'RFC2', 'HSPA6', 'PAX8', 'GUCA1A', 'UBA7', 'THRA', 'PTPN21',\n",
              "       'CCL5', 'CYP2E1',\n",
              "       ...\n",
              "       'KRAS all mutations', 'BRAF hotspot mutations', 'BRAF all mutations',\n",
              "       'PIK3CA hotspot mutations', 'PIK3CA all mutations',\n",
              "       'FBXW7 hotspot mutations', 'FBXW7 all mutations',\n",
              "       'TGFBR2 hotspot mutations', 'TGFBR2 all mutations',\n",
              "       'SMAD4 all mutations'],\n",
              "      dtype='object', length=21077)"
            ]
          },
          "metadata": {},
          "execution_count": 7
        }
      ]
    },
    {
      "cell_type": "markdown",
      "source": [
        "**Handling Duplicates**"
      ],
      "metadata": {
        "id": "CEPo5Kwa4UAF"
      }
    },
    {
      "cell_type": "code",
      "source": [
        "#There are 33625 duplicates\n",
        "df.index.duplicated().sum()"
      ],
      "metadata": {
        "colab": {
          "base_uri": "https://localhost:8080/"
        },
        "id": "X3QCCLUTaf3T",
        "outputId": "c5306469-7520-4760-c2a7-f2c34741e9d0"
      },
      "execution_count": null,
      "outputs": [
        {
          "output_type": "execute_result",
          "data": {
            "text/plain": [
              "33625"
            ]
          },
          "metadata": {},
          "execution_count": 8
        }
      ]
    },
    {
      "cell_type": "code",
      "source": [
        "#Relabeling duplicates\n",
        "df.index = df.index + (\"_\"+df.groupby(level=0).cumcount().astype(str)).replace('_0','')\n",
        "df.head()"
      ],
      "metadata": {
        "colab": {
          "base_uri": "https://localhost:8080/",
          "height": 299
        },
        "id": "HJ6l2S5KYkJj",
        "outputId": "13ae5e42-2888-4d7b-ef72-525907a7fae7"
      },
      "execution_count": null,
      "outputs": [
        {
          "output_type": "execute_result",
          "data": {
            "text/plain": [
              "             C10      C106    C125PM       C32       C70       C75       C80  \\\n",
              "DDR1    11.10390  11.07910  11.17970  11.50680  11.08760  11.33030  11.09560   \n",
              "RFC2     9.45475   9.00771   9.86042   9.52498   9.53370   8.79881   7.31596   \n",
              "HSPA6    6.33489   6.08624   5.99624   6.29194   5.76445   5.87747   5.89491   \n",
              "PAX8     8.34283   8.80605   8.27972   8.97679   8.61314   8.24204   8.42736   \n",
              "GUCA1A   3.77159   3.68338   3.91228   3.73648   3.64068   3.81183   3.76107   \n",
              "\n",
              "             C84       C99     CACO2  ...     SW403      SW48     SW480  \\\n",
              "DDR1    11.21460  11.53890  10.14060  ...  11.15560  11.43050  11.04630   \n",
              "RFC2     9.19284   7.42561   9.42345  ...   9.39105  10.02960  10.24310   \n",
              "HSPA6    5.85956   5.78572   5.63281  ...   5.97411   5.91963   5.75286   \n",
              "PAX8     8.63846   8.51370   8.27960  ...   8.43641   8.69135   8.96714   \n",
              "GUCA1A   3.78736   3.89909   3.70464  ...   3.68933   3.80050   3.94595   \n",
              "\n",
              "           SW837     SW948       T84  VACO10MS   VACO429   VACO4A     VACO5  \n",
              "DDR1    11.10180  11.32870  10.85770  11.01680  11.20140  9.80261   9.81900  \n",
              "RFC2     9.57473   9.67545   9.74446   9.24474   8.27504  9.62195  10.30300  \n",
              "HSPA6    6.08853   5.73124   5.94438   5.90822   6.55251  6.08932   5.82700  \n",
              "PAX8     8.78303   8.99510   8.36773   8.94381   8.31004  8.47219   8.28388  \n",
              "GUCA1A   3.78618   3.74473   3.90953   4.00774   3.63841  4.01677   3.74778  \n",
              "\n",
              "[5 rows x 78 columns]"
            ],
            "text/html": [
              "\n",
              "  <div id=\"df-3836039d-2a84-485d-a9ca-43c390dbe4d5\">\n",
              "    <div class=\"colab-df-container\">\n",
              "      <div>\n",
              "<style scoped>\n",
              "    .dataframe tbody tr th:only-of-type {\n",
              "        vertical-align: middle;\n",
              "    }\n",
              "\n",
              "    .dataframe tbody tr th {\n",
              "        vertical-align: top;\n",
              "    }\n",
              "\n",
              "    .dataframe thead th {\n",
              "        text-align: right;\n",
              "    }\n",
              "</style>\n",
              "<table border=\"1\" class=\"dataframe\">\n",
              "  <thead>\n",
              "    <tr style=\"text-align: right;\">\n",
              "      <th></th>\n",
              "      <th>C10</th>\n",
              "      <th>C106</th>\n",
              "      <th>C125PM</th>\n",
              "      <th>C32</th>\n",
              "      <th>C70</th>\n",
              "      <th>C75</th>\n",
              "      <th>C80</th>\n",
              "      <th>C84</th>\n",
              "      <th>C99</th>\n",
              "      <th>CACO2</th>\n",
              "      <th>...</th>\n",
              "      <th>SW403</th>\n",
              "      <th>SW48</th>\n",
              "      <th>SW480</th>\n",
              "      <th>SW837</th>\n",
              "      <th>SW948</th>\n",
              "      <th>T84</th>\n",
              "      <th>VACO10MS</th>\n",
              "      <th>VACO429</th>\n",
              "      <th>VACO4A</th>\n",
              "      <th>VACO5</th>\n",
              "    </tr>\n",
              "  </thead>\n",
              "  <tbody>\n",
              "    <tr>\n",
              "      <th>DDR1</th>\n",
              "      <td>11.10390</td>\n",
              "      <td>11.07910</td>\n",
              "      <td>11.17970</td>\n",
              "      <td>11.50680</td>\n",
              "      <td>11.08760</td>\n",
              "      <td>11.33030</td>\n",
              "      <td>11.09560</td>\n",
              "      <td>11.21460</td>\n",
              "      <td>11.53890</td>\n",
              "      <td>10.14060</td>\n",
              "      <td>...</td>\n",
              "      <td>11.15560</td>\n",
              "      <td>11.43050</td>\n",
              "      <td>11.04630</td>\n",
              "      <td>11.10180</td>\n",
              "      <td>11.32870</td>\n",
              "      <td>10.85770</td>\n",
              "      <td>11.01680</td>\n",
              "      <td>11.20140</td>\n",
              "      <td>9.80261</td>\n",
              "      <td>9.81900</td>\n",
              "    </tr>\n",
              "    <tr>\n",
              "      <th>RFC2</th>\n",
              "      <td>9.45475</td>\n",
              "      <td>9.00771</td>\n",
              "      <td>9.86042</td>\n",
              "      <td>9.52498</td>\n",
              "      <td>9.53370</td>\n",
              "      <td>8.79881</td>\n",
              "      <td>7.31596</td>\n",
              "      <td>9.19284</td>\n",
              "      <td>7.42561</td>\n",
              "      <td>9.42345</td>\n",
              "      <td>...</td>\n",
              "      <td>9.39105</td>\n",
              "      <td>10.02960</td>\n",
              "      <td>10.24310</td>\n",
              "      <td>9.57473</td>\n",
              "      <td>9.67545</td>\n",
              "      <td>9.74446</td>\n",
              "      <td>9.24474</td>\n",
              "      <td>8.27504</td>\n",
              "      <td>9.62195</td>\n",
              "      <td>10.30300</td>\n",
              "    </tr>\n",
              "    <tr>\n",
              "      <th>HSPA6</th>\n",
              "      <td>6.33489</td>\n",
              "      <td>6.08624</td>\n",
              "      <td>5.99624</td>\n",
              "      <td>6.29194</td>\n",
              "      <td>5.76445</td>\n",
              "      <td>5.87747</td>\n",
              "      <td>5.89491</td>\n",
              "      <td>5.85956</td>\n",
              "      <td>5.78572</td>\n",
              "      <td>5.63281</td>\n",
              "      <td>...</td>\n",
              "      <td>5.97411</td>\n",
              "      <td>5.91963</td>\n",
              "      <td>5.75286</td>\n",
              "      <td>6.08853</td>\n",
              "      <td>5.73124</td>\n",
              "      <td>5.94438</td>\n",
              "      <td>5.90822</td>\n",
              "      <td>6.55251</td>\n",
              "      <td>6.08932</td>\n",
              "      <td>5.82700</td>\n",
              "    </tr>\n",
              "    <tr>\n",
              "      <th>PAX8</th>\n",
              "      <td>8.34283</td>\n",
              "      <td>8.80605</td>\n",
              "      <td>8.27972</td>\n",
              "      <td>8.97679</td>\n",
              "      <td>8.61314</td>\n",
              "      <td>8.24204</td>\n",
              "      <td>8.42736</td>\n",
              "      <td>8.63846</td>\n",
              "      <td>8.51370</td>\n",
              "      <td>8.27960</td>\n",
              "      <td>...</td>\n",
              "      <td>8.43641</td>\n",
              "      <td>8.69135</td>\n",
              "      <td>8.96714</td>\n",
              "      <td>8.78303</td>\n",
              "      <td>8.99510</td>\n",
              "      <td>8.36773</td>\n",
              "      <td>8.94381</td>\n",
              "      <td>8.31004</td>\n",
              "      <td>8.47219</td>\n",
              "      <td>8.28388</td>\n",
              "    </tr>\n",
              "    <tr>\n",
              "      <th>GUCA1A</th>\n",
              "      <td>3.77159</td>\n",
              "      <td>3.68338</td>\n",
              "      <td>3.91228</td>\n",
              "      <td>3.73648</td>\n",
              "      <td>3.64068</td>\n",
              "      <td>3.81183</td>\n",
              "      <td>3.76107</td>\n",
              "      <td>3.78736</td>\n",
              "      <td>3.89909</td>\n",
              "      <td>3.70464</td>\n",
              "      <td>...</td>\n",
              "      <td>3.68933</td>\n",
              "      <td>3.80050</td>\n",
              "      <td>3.94595</td>\n",
              "      <td>3.78618</td>\n",
              "      <td>3.74473</td>\n",
              "      <td>3.90953</td>\n",
              "      <td>4.00774</td>\n",
              "      <td>3.63841</td>\n",
              "      <td>4.01677</td>\n",
              "      <td>3.74778</td>\n",
              "    </tr>\n",
              "  </tbody>\n",
              "</table>\n",
              "<p>5 rows × 78 columns</p>\n",
              "</div>\n",
              "      <button class=\"colab-df-convert\" onclick=\"convertToInteractive('df-3836039d-2a84-485d-a9ca-43c390dbe4d5')\"\n",
              "              title=\"Convert this dataframe to an interactive table.\"\n",
              "              style=\"display:none;\">\n",
              "        \n",
              "  <svg xmlns=\"http://www.w3.org/2000/svg\" height=\"24px\"viewBox=\"0 0 24 24\"\n",
              "       width=\"24px\">\n",
              "    <path d=\"M0 0h24v24H0V0z\" fill=\"none\"/>\n",
              "    <path d=\"M18.56 5.44l.94 2.06.94-2.06 2.06-.94-2.06-.94-.94-2.06-.94 2.06-2.06.94zm-11 1L8.5 8.5l.94-2.06 2.06-.94-2.06-.94L8.5 2.5l-.94 2.06-2.06.94zm10 10l.94 2.06.94-2.06 2.06-.94-2.06-.94-.94-2.06-.94 2.06-2.06.94z\"/><path d=\"M17.41 7.96l-1.37-1.37c-.4-.4-.92-.59-1.43-.59-.52 0-1.04.2-1.43.59L10.3 9.45l-7.72 7.72c-.78.78-.78 2.05 0 2.83L4 21.41c.39.39.9.59 1.41.59.51 0 1.02-.2 1.41-.59l7.78-7.78 2.81-2.81c.8-.78.8-2.07 0-2.86zM5.41 20L4 18.59l7.72-7.72 1.47 1.35L5.41 20z\"/>\n",
              "  </svg>\n",
              "      </button>\n",
              "      \n",
              "  <style>\n",
              "    .colab-df-container {\n",
              "      display:flex;\n",
              "      flex-wrap:wrap;\n",
              "      gap: 12px;\n",
              "    }\n",
              "\n",
              "    .colab-df-convert {\n",
              "      background-color: #E8F0FE;\n",
              "      border: none;\n",
              "      border-radius: 50%;\n",
              "      cursor: pointer;\n",
              "      display: none;\n",
              "      fill: #1967D2;\n",
              "      height: 32px;\n",
              "      padding: 0 0 0 0;\n",
              "      width: 32px;\n",
              "    }\n",
              "\n",
              "    .colab-df-convert:hover {\n",
              "      background-color: #E2EBFA;\n",
              "      box-shadow: 0px 1px 2px rgba(60, 64, 67, 0.3), 0px 1px 3px 1px rgba(60, 64, 67, 0.15);\n",
              "      fill: #174EA6;\n",
              "    }\n",
              "\n",
              "    [theme=dark] .colab-df-convert {\n",
              "      background-color: #3B4455;\n",
              "      fill: #D2E3FC;\n",
              "    }\n",
              "\n",
              "    [theme=dark] .colab-df-convert:hover {\n",
              "      background-color: #434B5C;\n",
              "      box-shadow: 0px 1px 3px 1px rgba(0, 0, 0, 0.15);\n",
              "      filter: drop-shadow(0px 1px 2px rgba(0, 0, 0, 0.3));\n",
              "      fill: #FFFFFF;\n",
              "    }\n",
              "  </style>\n",
              "\n",
              "      <script>\n",
              "        const buttonEl =\n",
              "          document.querySelector('#df-3836039d-2a84-485d-a9ca-43c390dbe4d5 button.colab-df-convert');\n",
              "        buttonEl.style.display =\n",
              "          google.colab.kernel.accessAllowed ? 'block' : 'none';\n",
              "\n",
              "        async function convertToInteractive(key) {\n",
              "          const element = document.querySelector('#df-3836039d-2a84-485d-a9ca-43c390dbe4d5');\n",
              "          const dataTable =\n",
              "            await google.colab.kernel.invokeFunction('convertToInteractive',\n",
              "                                                     [key], {});\n",
              "          if (!dataTable) return;\n",
              "\n",
              "          const docLinkHtml = 'Like what you see? Visit the ' +\n",
              "            '<a target=\"_blank\" href=https://colab.research.google.com/notebooks/data_table.ipynb>data table notebook</a>'\n",
              "            + ' to learn more about interactive tables.';\n",
              "          element.innerHTML = '';\n",
              "          dataTable['output_type'] = 'display_data';\n",
              "          await google.colab.output.renderOutput(dataTable, element);\n",
              "          const docLink = document.createElement('div');\n",
              "          docLink.innerHTML = docLinkHtml;\n",
              "          element.appendChild(docLink);\n",
              "        }\n",
              "      </script>\n",
              "    </div>\n",
              "  </div>\n",
              "  "
            ]
          },
          "metadata": {},
          "execution_count": 9
        }
      ]
    },
    {
      "cell_type": "code",
      "source": [
        "#Removed all duplicates\n",
        "df.index.duplicated().sum()"
      ],
      "metadata": {
        "colab": {
          "base_uri": "https://localhost:8080/"
        },
        "id": "oNkiXjcccDeK",
        "outputId": "c2c2412d-0635-4039-e158-a7ef43825f64"
      },
      "execution_count": null,
      "outputs": [
        {
          "output_type": "execute_result",
          "data": {
            "text/plain": [
              "0"
            ]
          },
          "metadata": {},
          "execution_count": 10
        }
      ]
    },
    {
      "cell_type": "code",
      "source": [
        "#Example of relabelling post-duplicate-handling\n",
        "#The second CDH1 instance has been relabelled to CDH1_1\n",
        "df.loc[[\"CDH1\",\"CDH1_1\"],:]"
      ],
      "metadata": {
        "colab": {
          "base_uri": "https://localhost:8080/",
          "height": 205
        },
        "id": "zZDvYYvdbOVM",
        "outputId": "a5a13252-6a36-4328-9cbc-978ea0ba010f"
      },
      "execution_count": null,
      "outputs": [
        {
          "output_type": "execute_result",
          "data": {
            "text/plain": [
              "             C10      C106    C125PM       C32       C70       C75      C80  \\\n",
              "CDH1     8.84476   8.43063   9.05031   9.41713   8.56102   8.34133  10.6095   \n",
              "CDH1_1  11.83090  13.22360  12.34470  11.83150  11.90950  12.01860  13.2421   \n",
              "\n",
              "            C84      C99     CACO2  ...     SW403      SW48    SW480  \\\n",
              "CDH1    10.1148  10.9150   9.90415  ...   8.50438   8.31705  6.00528   \n",
              "CDH1_1  12.7547  13.4284  12.83840  ...  12.26220  11.80070  8.95743   \n",
              "\n",
              "           SW837     SW948      T84  VACO10MS   VACO429    VACO4A     VACO5  \n",
              "CDH1     8.74518   8.50366   9.1853   9.56729   6.43262   8.70961   7.86674  \n",
              "CDH1_1  11.76250  12.13570  12.6199  12.40240  10.14970  11.37710  11.09120  \n",
              "\n",
              "[2 rows x 78 columns]"
            ],
            "text/html": [
              "\n",
              "  <div id=\"df-a8f86844-c7ea-4b21-9f6f-f0ac0504f242\">\n",
              "    <div class=\"colab-df-container\">\n",
              "      <div>\n",
              "<style scoped>\n",
              "    .dataframe tbody tr th:only-of-type {\n",
              "        vertical-align: middle;\n",
              "    }\n",
              "\n",
              "    .dataframe tbody tr th {\n",
              "        vertical-align: top;\n",
              "    }\n",
              "\n",
              "    .dataframe thead th {\n",
              "        text-align: right;\n",
              "    }\n",
              "</style>\n",
              "<table border=\"1\" class=\"dataframe\">\n",
              "  <thead>\n",
              "    <tr style=\"text-align: right;\">\n",
              "      <th></th>\n",
              "      <th>C10</th>\n",
              "      <th>C106</th>\n",
              "      <th>C125PM</th>\n",
              "      <th>C32</th>\n",
              "      <th>C70</th>\n",
              "      <th>C75</th>\n",
              "      <th>C80</th>\n",
              "      <th>C84</th>\n",
              "      <th>C99</th>\n",
              "      <th>CACO2</th>\n",
              "      <th>...</th>\n",
              "      <th>SW403</th>\n",
              "      <th>SW48</th>\n",
              "      <th>SW480</th>\n",
              "      <th>SW837</th>\n",
              "      <th>SW948</th>\n",
              "      <th>T84</th>\n",
              "      <th>VACO10MS</th>\n",
              "      <th>VACO429</th>\n",
              "      <th>VACO4A</th>\n",
              "      <th>VACO5</th>\n",
              "    </tr>\n",
              "  </thead>\n",
              "  <tbody>\n",
              "    <tr>\n",
              "      <th>CDH1</th>\n",
              "      <td>8.84476</td>\n",
              "      <td>8.43063</td>\n",
              "      <td>9.05031</td>\n",
              "      <td>9.41713</td>\n",
              "      <td>8.56102</td>\n",
              "      <td>8.34133</td>\n",
              "      <td>10.6095</td>\n",
              "      <td>10.1148</td>\n",
              "      <td>10.9150</td>\n",
              "      <td>9.90415</td>\n",
              "      <td>...</td>\n",
              "      <td>8.50438</td>\n",
              "      <td>8.31705</td>\n",
              "      <td>6.00528</td>\n",
              "      <td>8.74518</td>\n",
              "      <td>8.50366</td>\n",
              "      <td>9.1853</td>\n",
              "      <td>9.56729</td>\n",
              "      <td>6.43262</td>\n",
              "      <td>8.70961</td>\n",
              "      <td>7.86674</td>\n",
              "    </tr>\n",
              "    <tr>\n",
              "      <th>CDH1_1</th>\n",
              "      <td>11.83090</td>\n",
              "      <td>13.22360</td>\n",
              "      <td>12.34470</td>\n",
              "      <td>11.83150</td>\n",
              "      <td>11.90950</td>\n",
              "      <td>12.01860</td>\n",
              "      <td>13.2421</td>\n",
              "      <td>12.7547</td>\n",
              "      <td>13.4284</td>\n",
              "      <td>12.83840</td>\n",
              "      <td>...</td>\n",
              "      <td>12.26220</td>\n",
              "      <td>11.80070</td>\n",
              "      <td>8.95743</td>\n",
              "      <td>11.76250</td>\n",
              "      <td>12.13570</td>\n",
              "      <td>12.6199</td>\n",
              "      <td>12.40240</td>\n",
              "      <td>10.14970</td>\n",
              "      <td>11.37710</td>\n",
              "      <td>11.09120</td>\n",
              "    </tr>\n",
              "  </tbody>\n",
              "</table>\n",
              "<p>2 rows × 78 columns</p>\n",
              "</div>\n",
              "      <button class=\"colab-df-convert\" onclick=\"convertToInteractive('df-a8f86844-c7ea-4b21-9f6f-f0ac0504f242')\"\n",
              "              title=\"Convert this dataframe to an interactive table.\"\n",
              "              style=\"display:none;\">\n",
              "        \n",
              "  <svg xmlns=\"http://www.w3.org/2000/svg\" height=\"24px\"viewBox=\"0 0 24 24\"\n",
              "       width=\"24px\">\n",
              "    <path d=\"M0 0h24v24H0V0z\" fill=\"none\"/>\n",
              "    <path d=\"M18.56 5.44l.94 2.06.94-2.06 2.06-.94-2.06-.94-.94-2.06-.94 2.06-2.06.94zm-11 1L8.5 8.5l.94-2.06 2.06-.94-2.06-.94L8.5 2.5l-.94 2.06-2.06.94zm10 10l.94 2.06.94-2.06 2.06-.94-2.06-.94-.94-2.06-.94 2.06-2.06.94z\"/><path d=\"M17.41 7.96l-1.37-1.37c-.4-.4-.92-.59-1.43-.59-.52 0-1.04.2-1.43.59L10.3 9.45l-7.72 7.72c-.78.78-.78 2.05 0 2.83L4 21.41c.39.39.9.59 1.41.59.51 0 1.02-.2 1.41-.59l7.78-7.78 2.81-2.81c.8-.78.8-2.07 0-2.86zM5.41 20L4 18.59l7.72-7.72 1.47 1.35L5.41 20z\"/>\n",
              "  </svg>\n",
              "      </button>\n",
              "      \n",
              "  <style>\n",
              "    .colab-df-container {\n",
              "      display:flex;\n",
              "      flex-wrap:wrap;\n",
              "      gap: 12px;\n",
              "    }\n",
              "\n",
              "    .colab-df-convert {\n",
              "      background-color: #E8F0FE;\n",
              "      border: none;\n",
              "      border-radius: 50%;\n",
              "      cursor: pointer;\n",
              "      display: none;\n",
              "      fill: #1967D2;\n",
              "      height: 32px;\n",
              "      padding: 0 0 0 0;\n",
              "      width: 32px;\n",
              "    }\n",
              "\n",
              "    .colab-df-convert:hover {\n",
              "      background-color: #E2EBFA;\n",
              "      box-shadow: 0px 1px 2px rgba(60, 64, 67, 0.3), 0px 1px 3px 1px rgba(60, 64, 67, 0.15);\n",
              "      fill: #174EA6;\n",
              "    }\n",
              "\n",
              "    [theme=dark] .colab-df-convert {\n",
              "      background-color: #3B4455;\n",
              "      fill: #D2E3FC;\n",
              "    }\n",
              "\n",
              "    [theme=dark] .colab-df-convert:hover {\n",
              "      background-color: #434B5C;\n",
              "      box-shadow: 0px 1px 3px 1px rgba(0, 0, 0, 0.15);\n",
              "      filter: drop-shadow(0px 1px 2px rgba(0, 0, 0, 0.3));\n",
              "      fill: #FFFFFF;\n",
              "    }\n",
              "  </style>\n",
              "\n",
              "      <script>\n",
              "        const buttonEl =\n",
              "          document.querySelector('#df-a8f86844-c7ea-4b21-9f6f-f0ac0504f242 button.colab-df-convert');\n",
              "        buttonEl.style.display =\n",
              "          google.colab.kernel.accessAllowed ? 'block' : 'none';\n",
              "\n",
              "        async function convertToInteractive(key) {\n",
              "          const element = document.querySelector('#df-a8f86844-c7ea-4b21-9f6f-f0ac0504f242');\n",
              "          const dataTable =\n",
              "            await google.colab.kernel.invokeFunction('convertToInteractive',\n",
              "                                                     [key], {});\n",
              "          if (!dataTable) return;\n",
              "\n",
              "          const docLinkHtml = 'Like what you see? Visit the ' +\n",
              "            '<a target=\"_blank\" href=https://colab.research.google.com/notebooks/data_table.ipynb>data table notebook</a>'\n",
              "            + ' to learn more about interactive tables.';\n",
              "          element.innerHTML = '';\n",
              "          dataTable['output_type'] = 'display_data';\n",
              "          await google.colab.output.renderOutput(dataTable, element);\n",
              "          const docLink = document.createElement('div');\n",
              "          docLink.innerHTML = docLinkHtml;\n",
              "          element.appendChild(docLink);\n",
              "        }\n",
              "      </script>\n",
              "    </div>\n",
              "  </div>\n",
              "  "
            ]
          },
          "metadata": {},
          "execution_count": 11
        }
      ]
    },
    {
      "cell_type": "markdown",
      "source": [
        "**Handling Null Values**"
      ],
      "metadata": {
        "id": "XdhnaVbB4eto"
      }
    },
    {
      "cell_type": "code",
      "source": [
        "df.isna()"
      ],
      "metadata": {
        "colab": {
          "base_uri": "https://localhost:8080/",
          "height": 424
        },
        "id": "1hBnQCT9h4Ec",
        "outputId": "f0d83846-d296-470a-f02d-3764341f0bcf"
      },
      "execution_count": null,
      "outputs": [
        {
          "output_type": "execute_result",
          "data": {
            "text/plain": [
              "                            C10   C106  C125PM    C32    C70    C75    C80  \\\n",
              "DDR1                      False  False   False  False  False  False  False   \n",
              "RFC2                      False  False   False  False  False  False  False   \n",
              "HSPA6                     False  False   False  False  False  False  False   \n",
              "PAX8                      False  False   False  False  False  False  False   \n",
              "GUCA1A                    False  False   False  False  False  False  False   \n",
              "...                         ...    ...     ...    ...    ...    ...    ...   \n",
              "FBXW7 hotspot mutations   False  False   False  False  False   True  False   \n",
              "FBXW7 all mutations       False  False   False  False  False   True  False   \n",
              "TGFBR2 hotspot mutations  False  False   False  False  False   True  False   \n",
              "TGFBR2 all mutations      False  False   False  False  False   True  False   \n",
              "SMAD4 all mutations       False  False   False  False  False   True  False   \n",
              "\n",
              "                            C84    C99  CACO2  ...  SW403   SW48  SW480  \\\n",
              "DDR1                      False  False  False  ...  False  False  False   \n",
              "RFC2                      False  False  False  ...  False  False  False   \n",
              "HSPA6                     False  False  False  ...  False  False  False   \n",
              "PAX8                      False  False  False  ...  False  False  False   \n",
              "GUCA1A                    False  False  False  ...  False  False  False   \n",
              "...                         ...    ...    ...  ...    ...    ...    ...   \n",
              "FBXW7 hotspot mutations   False  False  False  ...  False  False  False   \n",
              "FBXW7 all mutations       False  False  False  ...  False  False  False   \n",
              "TGFBR2 hotspot mutations   True  False  False  ...  False  False  False   \n",
              "TGFBR2 all mutations      False  False  False  ...  False  False  False   \n",
              "SMAD4 all mutations       False  False  False  ...  False  False  False   \n",
              "\n",
              "                          SW837  SW948    T84  VACO10MS  VACO429  VACO4A  \\\n",
              "DDR1                      False  False  False     False    False   False   \n",
              "RFC2                      False  False  False     False    False   False   \n",
              "HSPA6                     False  False  False     False    False   False   \n",
              "PAX8                      False  False  False     False    False   False   \n",
              "GUCA1A                    False  False  False     False    False   False   \n",
              "...                         ...    ...    ...       ...      ...     ...   \n",
              "FBXW7 hotspot mutations   False  False  False      True    False    True   \n",
              "FBXW7 all mutations       False  False  False     False    False    True   \n",
              "TGFBR2 hotspot mutations  False  False  False     False     True    True   \n",
              "TGFBR2 all mutations      False  False  False     False     True    True   \n",
              "SMAD4 all mutations       False  False  False     False     True   False   \n",
              "\n",
              "                          VACO5  \n",
              "DDR1                      False  \n",
              "RFC2                      False  \n",
              "HSPA6                     False  \n",
              "PAX8                      False  \n",
              "GUCA1A                    False  \n",
              "...                         ...  \n",
              "FBXW7 hotspot mutations    True  \n",
              "FBXW7 all mutations        True  \n",
              "TGFBR2 hotspot mutations   True  \n",
              "TGFBR2 all mutations       True  \n",
              "SMAD4 all mutations        True  \n",
              "\n",
              "[54702 rows x 78 columns]"
            ],
            "text/html": [
              "\n",
              "  <div id=\"df-17280375-4fe2-47d0-b4b8-e88ea3e0f628\">\n",
              "    <div class=\"colab-df-container\">\n",
              "      <div>\n",
              "<style scoped>\n",
              "    .dataframe tbody tr th:only-of-type {\n",
              "        vertical-align: middle;\n",
              "    }\n",
              "\n",
              "    .dataframe tbody tr th {\n",
              "        vertical-align: top;\n",
              "    }\n",
              "\n",
              "    .dataframe thead th {\n",
              "        text-align: right;\n",
              "    }\n",
              "</style>\n",
              "<table border=\"1\" class=\"dataframe\">\n",
              "  <thead>\n",
              "    <tr style=\"text-align: right;\">\n",
              "      <th></th>\n",
              "      <th>C10</th>\n",
              "      <th>C106</th>\n",
              "      <th>C125PM</th>\n",
              "      <th>C32</th>\n",
              "      <th>C70</th>\n",
              "      <th>C75</th>\n",
              "      <th>C80</th>\n",
              "      <th>C84</th>\n",
              "      <th>C99</th>\n",
              "      <th>CACO2</th>\n",
              "      <th>...</th>\n",
              "      <th>SW403</th>\n",
              "      <th>SW48</th>\n",
              "      <th>SW480</th>\n",
              "      <th>SW837</th>\n",
              "      <th>SW948</th>\n",
              "      <th>T84</th>\n",
              "      <th>VACO10MS</th>\n",
              "      <th>VACO429</th>\n",
              "      <th>VACO4A</th>\n",
              "      <th>VACO5</th>\n",
              "    </tr>\n",
              "  </thead>\n",
              "  <tbody>\n",
              "    <tr>\n",
              "      <th>DDR1</th>\n",
              "      <td>False</td>\n",
              "      <td>False</td>\n",
              "      <td>False</td>\n",
              "      <td>False</td>\n",
              "      <td>False</td>\n",
              "      <td>False</td>\n",
              "      <td>False</td>\n",
              "      <td>False</td>\n",
              "      <td>False</td>\n",
              "      <td>False</td>\n",
              "      <td>...</td>\n",
              "      <td>False</td>\n",
              "      <td>False</td>\n",
              "      <td>False</td>\n",
              "      <td>False</td>\n",
              "      <td>False</td>\n",
              "      <td>False</td>\n",
              "      <td>False</td>\n",
              "      <td>False</td>\n",
              "      <td>False</td>\n",
              "      <td>False</td>\n",
              "    </tr>\n",
              "    <tr>\n",
              "      <th>RFC2</th>\n",
              "      <td>False</td>\n",
              "      <td>False</td>\n",
              "      <td>False</td>\n",
              "      <td>False</td>\n",
              "      <td>False</td>\n",
              "      <td>False</td>\n",
              "      <td>False</td>\n",
              "      <td>False</td>\n",
              "      <td>False</td>\n",
              "      <td>False</td>\n",
              "      <td>...</td>\n",
              "      <td>False</td>\n",
              "      <td>False</td>\n",
              "      <td>False</td>\n",
              "      <td>False</td>\n",
              "      <td>False</td>\n",
              "      <td>False</td>\n",
              "      <td>False</td>\n",
              "      <td>False</td>\n",
              "      <td>False</td>\n",
              "      <td>False</td>\n",
              "    </tr>\n",
              "    <tr>\n",
              "      <th>HSPA6</th>\n",
              "      <td>False</td>\n",
              "      <td>False</td>\n",
              "      <td>False</td>\n",
              "      <td>False</td>\n",
              "      <td>False</td>\n",
              "      <td>False</td>\n",
              "      <td>False</td>\n",
              "      <td>False</td>\n",
              "      <td>False</td>\n",
              "      <td>False</td>\n",
              "      <td>...</td>\n",
              "      <td>False</td>\n",
              "      <td>False</td>\n",
              "      <td>False</td>\n",
              "      <td>False</td>\n",
              "      <td>False</td>\n",
              "      <td>False</td>\n",
              "      <td>False</td>\n",
              "      <td>False</td>\n",
              "      <td>False</td>\n",
              "      <td>False</td>\n",
              "    </tr>\n",
              "    <tr>\n",
              "      <th>PAX8</th>\n",
              "      <td>False</td>\n",
              "      <td>False</td>\n",
              "      <td>False</td>\n",
              "      <td>False</td>\n",
              "      <td>False</td>\n",
              "      <td>False</td>\n",
              "      <td>False</td>\n",
              "      <td>False</td>\n",
              "      <td>False</td>\n",
              "      <td>False</td>\n",
              "      <td>...</td>\n",
              "      <td>False</td>\n",
              "      <td>False</td>\n",
              "      <td>False</td>\n",
              "      <td>False</td>\n",
              "      <td>False</td>\n",
              "      <td>False</td>\n",
              "      <td>False</td>\n",
              "      <td>False</td>\n",
              "      <td>False</td>\n",
              "      <td>False</td>\n",
              "    </tr>\n",
              "    <tr>\n",
              "      <th>GUCA1A</th>\n",
              "      <td>False</td>\n",
              "      <td>False</td>\n",
              "      <td>False</td>\n",
              "      <td>False</td>\n",
              "      <td>False</td>\n",
              "      <td>False</td>\n",
              "      <td>False</td>\n",
              "      <td>False</td>\n",
              "      <td>False</td>\n",
              "      <td>False</td>\n",
              "      <td>...</td>\n",
              "      <td>False</td>\n",
              "      <td>False</td>\n",
              "      <td>False</td>\n",
              "      <td>False</td>\n",
              "      <td>False</td>\n",
              "      <td>False</td>\n",
              "      <td>False</td>\n",
              "      <td>False</td>\n",
              "      <td>False</td>\n",
              "      <td>False</td>\n",
              "    </tr>\n",
              "    <tr>\n",
              "      <th>...</th>\n",
              "      <td>...</td>\n",
              "      <td>...</td>\n",
              "      <td>...</td>\n",
              "      <td>...</td>\n",
              "      <td>...</td>\n",
              "      <td>...</td>\n",
              "      <td>...</td>\n",
              "      <td>...</td>\n",
              "      <td>...</td>\n",
              "      <td>...</td>\n",
              "      <td>...</td>\n",
              "      <td>...</td>\n",
              "      <td>...</td>\n",
              "      <td>...</td>\n",
              "      <td>...</td>\n",
              "      <td>...</td>\n",
              "      <td>...</td>\n",
              "      <td>...</td>\n",
              "      <td>...</td>\n",
              "      <td>...</td>\n",
              "      <td>...</td>\n",
              "    </tr>\n",
              "    <tr>\n",
              "      <th>FBXW7 hotspot mutations</th>\n",
              "      <td>False</td>\n",
              "      <td>False</td>\n",
              "      <td>False</td>\n",
              "      <td>False</td>\n",
              "      <td>False</td>\n",
              "      <td>True</td>\n",
              "      <td>False</td>\n",
              "      <td>False</td>\n",
              "      <td>False</td>\n",
              "      <td>False</td>\n",
              "      <td>...</td>\n",
              "      <td>False</td>\n",
              "      <td>False</td>\n",
              "      <td>False</td>\n",
              "      <td>False</td>\n",
              "      <td>False</td>\n",
              "      <td>False</td>\n",
              "      <td>True</td>\n",
              "      <td>False</td>\n",
              "      <td>True</td>\n",
              "      <td>True</td>\n",
              "    </tr>\n",
              "    <tr>\n",
              "      <th>FBXW7 all mutations</th>\n",
              "      <td>False</td>\n",
              "      <td>False</td>\n",
              "      <td>False</td>\n",
              "      <td>False</td>\n",
              "      <td>False</td>\n",
              "      <td>True</td>\n",
              "      <td>False</td>\n",
              "      <td>False</td>\n",
              "      <td>False</td>\n",
              "      <td>False</td>\n",
              "      <td>...</td>\n",
              "      <td>False</td>\n",
              "      <td>False</td>\n",
              "      <td>False</td>\n",
              "      <td>False</td>\n",
              "      <td>False</td>\n",
              "      <td>False</td>\n",
              "      <td>False</td>\n",
              "      <td>False</td>\n",
              "      <td>True</td>\n",
              "      <td>True</td>\n",
              "    </tr>\n",
              "    <tr>\n",
              "      <th>TGFBR2 hotspot mutations</th>\n",
              "      <td>False</td>\n",
              "      <td>False</td>\n",
              "      <td>False</td>\n",
              "      <td>False</td>\n",
              "      <td>False</td>\n",
              "      <td>True</td>\n",
              "      <td>False</td>\n",
              "      <td>True</td>\n",
              "      <td>False</td>\n",
              "      <td>False</td>\n",
              "      <td>...</td>\n",
              "      <td>False</td>\n",
              "      <td>False</td>\n",
              "      <td>False</td>\n",
              "      <td>False</td>\n",
              "      <td>False</td>\n",
              "      <td>False</td>\n",
              "      <td>False</td>\n",
              "      <td>True</td>\n",
              "      <td>True</td>\n",
              "      <td>True</td>\n",
              "    </tr>\n",
              "    <tr>\n",
              "      <th>TGFBR2 all mutations</th>\n",
              "      <td>False</td>\n",
              "      <td>False</td>\n",
              "      <td>False</td>\n",
              "      <td>False</td>\n",
              "      <td>False</td>\n",
              "      <td>True</td>\n",
              "      <td>False</td>\n",
              "      <td>False</td>\n",
              "      <td>False</td>\n",
              "      <td>False</td>\n",
              "      <td>...</td>\n",
              "      <td>False</td>\n",
              "      <td>False</td>\n",
              "      <td>False</td>\n",
              "      <td>False</td>\n",
              "      <td>False</td>\n",
              "      <td>False</td>\n",
              "      <td>False</td>\n",
              "      <td>True</td>\n",
              "      <td>True</td>\n",
              "      <td>True</td>\n",
              "    </tr>\n",
              "    <tr>\n",
              "      <th>SMAD4 all mutations</th>\n",
              "      <td>False</td>\n",
              "      <td>False</td>\n",
              "      <td>False</td>\n",
              "      <td>False</td>\n",
              "      <td>False</td>\n",
              "      <td>True</td>\n",
              "      <td>False</td>\n",
              "      <td>False</td>\n",
              "      <td>False</td>\n",
              "      <td>False</td>\n",
              "      <td>...</td>\n",
              "      <td>False</td>\n",
              "      <td>False</td>\n",
              "      <td>False</td>\n",
              "      <td>False</td>\n",
              "      <td>False</td>\n",
              "      <td>False</td>\n",
              "      <td>False</td>\n",
              "      <td>True</td>\n",
              "      <td>False</td>\n",
              "      <td>True</td>\n",
              "    </tr>\n",
              "  </tbody>\n",
              "</table>\n",
              "<p>54702 rows × 78 columns</p>\n",
              "</div>\n",
              "      <button class=\"colab-df-convert\" onclick=\"convertToInteractive('df-17280375-4fe2-47d0-b4b8-e88ea3e0f628')\"\n",
              "              title=\"Convert this dataframe to an interactive table.\"\n",
              "              style=\"display:none;\">\n",
              "        \n",
              "  <svg xmlns=\"http://www.w3.org/2000/svg\" height=\"24px\"viewBox=\"0 0 24 24\"\n",
              "       width=\"24px\">\n",
              "    <path d=\"M0 0h24v24H0V0z\" fill=\"none\"/>\n",
              "    <path d=\"M18.56 5.44l.94 2.06.94-2.06 2.06-.94-2.06-.94-.94-2.06-.94 2.06-2.06.94zm-11 1L8.5 8.5l.94-2.06 2.06-.94-2.06-.94L8.5 2.5l-.94 2.06-2.06.94zm10 10l.94 2.06.94-2.06 2.06-.94-2.06-.94-.94-2.06-.94 2.06-2.06.94z\"/><path d=\"M17.41 7.96l-1.37-1.37c-.4-.4-.92-.59-1.43-.59-.52 0-1.04.2-1.43.59L10.3 9.45l-7.72 7.72c-.78.78-.78 2.05 0 2.83L4 21.41c.39.39.9.59 1.41.59.51 0 1.02-.2 1.41-.59l7.78-7.78 2.81-2.81c.8-.78.8-2.07 0-2.86zM5.41 20L4 18.59l7.72-7.72 1.47 1.35L5.41 20z\"/>\n",
              "  </svg>\n",
              "      </button>\n",
              "      \n",
              "  <style>\n",
              "    .colab-df-container {\n",
              "      display:flex;\n",
              "      flex-wrap:wrap;\n",
              "      gap: 12px;\n",
              "    }\n",
              "\n",
              "    .colab-df-convert {\n",
              "      background-color: #E8F0FE;\n",
              "      border: none;\n",
              "      border-radius: 50%;\n",
              "      cursor: pointer;\n",
              "      display: none;\n",
              "      fill: #1967D2;\n",
              "      height: 32px;\n",
              "      padding: 0 0 0 0;\n",
              "      width: 32px;\n",
              "    }\n",
              "\n",
              "    .colab-df-convert:hover {\n",
              "      background-color: #E2EBFA;\n",
              "      box-shadow: 0px 1px 2px rgba(60, 64, 67, 0.3), 0px 1px 3px 1px rgba(60, 64, 67, 0.15);\n",
              "      fill: #174EA6;\n",
              "    }\n",
              "\n",
              "    [theme=dark] .colab-df-convert {\n",
              "      background-color: #3B4455;\n",
              "      fill: #D2E3FC;\n",
              "    }\n",
              "\n",
              "    [theme=dark] .colab-df-convert:hover {\n",
              "      background-color: #434B5C;\n",
              "      box-shadow: 0px 1px 3px 1px rgba(0, 0, 0, 0.15);\n",
              "      filter: drop-shadow(0px 1px 2px rgba(0, 0, 0, 0.3));\n",
              "      fill: #FFFFFF;\n",
              "    }\n",
              "  </style>\n",
              "\n",
              "      <script>\n",
              "        const buttonEl =\n",
              "          document.querySelector('#df-17280375-4fe2-47d0-b4b8-e88ea3e0f628 button.colab-df-convert');\n",
              "        buttonEl.style.display =\n",
              "          google.colab.kernel.accessAllowed ? 'block' : 'none';\n",
              "\n",
              "        async function convertToInteractive(key) {\n",
              "          const element = document.querySelector('#df-17280375-4fe2-47d0-b4b8-e88ea3e0f628');\n",
              "          const dataTable =\n",
              "            await google.colab.kernel.invokeFunction('convertToInteractive',\n",
              "                                                     [key], {});\n",
              "          if (!dataTable) return;\n",
              "\n",
              "          const docLinkHtml = 'Like what you see? Visit the ' +\n",
              "            '<a target=\"_blank\" href=https://colab.research.google.com/notebooks/data_table.ipynb>data table notebook</a>'\n",
              "            + ' to learn more about interactive tables.';\n",
              "          element.innerHTML = '';\n",
              "          dataTable['output_type'] = 'display_data';\n",
              "          await google.colab.output.renderOutput(dataTable, element);\n",
              "          const docLink = document.createElement('div');\n",
              "          docLink.innerHTML = docLinkHtml;\n",
              "          element.appendChild(docLink);\n",
              "        }\n",
              "      </script>\n",
              "    </div>\n",
              "  </div>\n",
              "  "
            ]
          },
          "metadata": {},
          "execution_count": 12
        }
      ]
    },
    {
      "cell_type": "markdown",
      "source": [
        "We chose to keep nan values because if we turn nan values into 0, that will skew the distribution (since we want the nan value to be omitted from the analysis, not to beincluded as 0 since 0 has real meaning in this case)."
      ],
      "metadata": {
        "id": "88eLsqsLi0Ow"
      }
    },
    {
      "cell_type": "markdown",
      "source": [
        "# Gaussian Mixture Models"
      ],
      "metadata": {
        "id": "ZoCP6EZe4u6e"
      }
    },
    {
      "cell_type": "code",
      "source": [
        "#Isolating a row of the data to run the model on\n",
        "temp = df.loc['CDH1',:].dropna()\n",
        "temp"
      ],
      "metadata": {
        "colab": {
          "base_uri": "https://localhost:8080/"
        },
        "id": "mTxZFD17RO_V",
        "outputId": "618a8093-97b6-4021-91d9-822f0578a07b"
      },
      "execution_count": null,
      "outputs": [
        {
          "output_type": "execute_result",
          "data": {
            "text/plain": [
              "C10         8.84476\n",
              "C106        8.43063\n",
              "C125PM      9.05031\n",
              "C32         9.41713\n",
              "C70         8.56102\n",
              "             ...   \n",
              "T84         9.18530\n",
              "VACO10MS    9.56729\n",
              "VACO429     6.43262\n",
              "VACO4A      8.70961\n",
              "VACO5       7.86674\n",
              "Name: CDH1, Length: 78, dtype: float64"
            ]
          },
          "metadata": {},
          "execution_count": 13
        }
      ]
    },
    {
      "cell_type": "code",
      "source": [
        "#Importing the existing GMM implementation from the sklearn.mixture package\n",
        "from sklearn.mixture import GaussianMixture\n",
        "\n",
        "#Reshaping the input array to make it two-dimensional\n",
        "inp = np.array(temp).reshape(-1, 1)"
      ],
      "metadata": {
        "id": "ehsVFluKxaqj"
      },
      "execution_count": null,
      "outputs": []
    },
    {
      "cell_type": "code",
      "source": [
        "#Functions to determine our model selection/goodness of fit metrics\n",
        "\n",
        "#Writing a function to identify which indices in a sorted list a number lies between\n",
        "#Parameters are \"lis\" (a sorted list from least to greatest) and \"num\" (a number of the user's choosing)\n",
        "#The function returns the index of the maximum number in the list that is less than \"num\"\n",
        "def find_ind(num, lis):\n",
        "  i = 0\n",
        "  while num > lis[i+1]:\n",
        "    i += 1\n",
        "  return i\n",
        "\n",
        "#Writing a function to identify the area under a curve using the rectangular area approximation\n",
        "#Parameters are \"xl\" and \"yl\" (the x and y values of the curve)\n",
        "def rec_area_under(xl,yl):\n",
        "  aund = 0\n",
        "  for i in range(len(xl)-1):\n",
        "    aund += (yl[i]*(xl[i+1]-xl[i]))\n",
        "  return aund\n",
        "\n",
        "#Writing a function to calculate our \"Adjusted Least Squares\" (ALS) metric\n",
        "#Parameters are \"bins\" (the y-values of the bins in the histogram) and \"preds\" (the y-values (likelihoods) of the curve fitted to the distribution) \n",
        "ind_test = []\n",
        "def ls_metric(preds, bins):\n",
        "  ls_ls = 0\n",
        "  for i in range(len(x)):\n",
        "    ind = find_ind(x[i],bins)\n",
        "    ind_test.append(ind)\n",
        "    ls_ls += (abs(counts[ind]-preds[i])**2)\n",
        "  return ls_ls\n",
        "\n",
        "#Writing a function to calculate our \"Area Under Difference\" (AUD) metric\n",
        "#Parameters are \"hx\" and \"hy\" (the x and y values of the bins in the histogram) and \"px\" and \"py\" (the x and y values of the curve fitted to the distribution)\n",
        "def ar_metric(hx,hy,px,py):\n",
        "  hund = rec_area_under(hx,hy)\n",
        "  pund = rec_area_under(px,py)\n",
        "  return pund-hund"
      ],
      "metadata": {
        "id": "_Hp-VZfD5slJ"
      },
      "execution_count": null,
      "outputs": []
    },
    {
      "cell_type": "code",
      "source": [
        "#Fitting 1 component Gaussian Mixture Model\n",
        "\n",
        "gmm1 = GaussianMixture(n_components = 1)\n",
        "gmm1 = gmm1.fit(inp)\n",
        "fig, ax = plt.subplots()\n",
        "counts, bins, bars = ax.hist(temp,weights=np.ones(len(temp)) / len(temp),ec=\"black\")  #the \"weights\" argument makes sure we graph the ratio rather than the count of frequencies on the y-axis\n",
        "x= temp\n",
        "y = np.exp(gmm1.score_samples(inp))\n",
        "y = y*max(counts)/max(y)  #This line normalizes the y-values of the curve so we can compare the histogram and fitted curve on the same scale\n",
        "x,y = zip(*sorted(zip(x,y),key=lambda x: x[0]))\n",
        "ax.plot(x,y,\"-k\")\n",
        "plt.title(\"CDH1\")\n",
        "plt.xlabel(\"log2 (expression value)\")\n",
        "plt.ylabel(\"Fraction of Samples\")\n",
        "print(\"Gaussian Mixture Model BIC (1 Component) \" + str(gmm1.bic(inp)))\n",
        "print(\"Gaussian Mixture Model ALS (1 Component) \" + str(ls_metric(y,bins)))\n",
        "print(\"Gaussian Mixture Model AUD (1 Component) \" + str(ar_metric(bins,counts,x,y)))\n",
        "plt.show()"
      ],
      "metadata": {
        "colab": {
          "base_uri": "https://localhost:8080/",
          "height": 347
        },
        "id": "uU7ztHQhBe_a",
        "outputId": "9668373a-78ac-4b27-d702-718ec9128ec7"
      },
      "execution_count": null,
      "outputs": [
        {
          "output_type": "stream",
          "name": "stdout",
          "text": [
            "Gaussian Mixture Model BIC (1 Component) 299.3267181529215\n",
            "Gaussian Mixture Model ALS (1 Component) 0.24728267380757915\n",
            "Gaussian Mixture Model AUD (1 Component) 0.219123704860975\n"
          ]
        },
        {
          "output_type": "display_data",
          "data": {
            "text/plain": [
              "<Figure size 432x288 with 1 Axes>"
            ],
            "image/png": "[encoded data removed]"
          },
          "metadata": {
            "needs_background": "light"
          }
        }
      ]
    },
    {
      "cell_type": "code",
      "source": [
        "#Fitting 2 component Gaussian Mixture Model\n",
        "\n",
        "gmm2 = GaussianMixture(n_components = 2)\n",
        "gmm2 = gmm2.fit(inp)\n",
        "fig, ax = plt.subplots()\n",
        "counts, bins, bars = ax.hist(temp,weights=np.ones(len(temp)) / len(temp),ec=\"black\")\n",
        "x= temp\n",
        "y = np.exp(gmm2.score_samples(inp))\n",
        "y = y*max(counts)/max(y)\n",
        "x,y = zip(*sorted(zip(x,y),key=lambda x: x[0]))\n",
        "ax.plot(x,y,\"-k\")\n",
        "plt.title(\"CDH1\")\n",
        "plt.xlabel(\"log2 (expression value)\")\n",
        "plt.ylabel(\"Fraction of Samples\")\n",
        "print(\"Gaussian Mixture Model BIC (2 Components) \" + str(gmm2.bic(inp)))\n",
        "print(\"Gaussian Mixture Model ALS (2 Components) \" + str(ls_metric(y,bins)))\n",
        "print(\"Gaussian Mixture Model AUD (2 Components) \" + str(ar_metric(bins,counts,x,y)))\n",
        "plt.show()"
      ],
      "metadata": {
        "colab": {
          "base_uri": "https://localhost:8080/",
          "height": 347
        },
        "id": "cjFFORAPBszM",
        "outputId": "a0f01963-a7ba-41d5-a80f-3c5238d4502f"
      },
      "execution_count": null,
      "outputs": [
        {
          "output_type": "stream",
          "name": "stdout",
          "text": [
            "Gaussian Mixture Model BIC (2 Components) 266.64189831018325\n",
            "Gaussian Mixture Model ALS (2 Components) 0.06806613987032127\n",
            "Gaussian Mixture Model AUD (2 Components) -0.099175189367681\n"
          ]
        },
        {
          "output_type": "display_data",
          "data": {
            "text/plain": [
              "<Figure size 432x288 with 1 Axes>"
            ],
            "image/png": "[encoded data removed]"
          },
          "metadata": {
            "needs_background": "light"
          }
        }
      ]
    },
    {
      "cell_type": "markdown",
      "source": [
        "# Student-t Mixture Models"
      ],
      "metadata": {
        "id": "_ql2s7ok6-2z"
      }
    },
    {
      "cell_type": "code",
      "source": [
        "#Installing the smm package for student-t mixture models\n",
        "!pip install smm"
      ],
      "metadata": {
        "id": "S6-hZ_h166A7",
        "colab": {
          "base_uri": "https://localhost:8080/"
        },
        "outputId": "45f4a053-1055-4338-917a-c41a29d0962d"
      },
      "execution_count": null,
      "outputs": [
        {
          "output_type": "stream",
          "name": "stdout",
          "text": [
            "Looking in indexes: https://pypi.org/simple, https://us-python.pkg.dev/colab-wheels/public/simple/\n",
            "Collecting smm\n",
            "  Downloading smm-0.1.5.tar.gz (13 kB)\n",
            "Building wheels for collected packages: smm\n",
            "  Building wheel for smm (setup.py) ... \u001b[?25l\u001b[?25hdone\n",
            "  Created wheel for smm: filename=smm-0.1.5-py3-none-any.whl size=13142 sha256=9af0c2080919ce44dbecdb472ce53a526c5137e24ff6fe65cc93bc1b8dd49e70\n",
            "  Stored in directory: /root/.cache/pip/wheels/8c/80/e4/c43a3b65c48aaf8d9c9a4454472c12d758020bdada7c79fa97\n",
            "Successfully built smm\n",
            "Installing collected packages: smm\n",
            "Successfully installed smm-0.1.5\n"
          ]
        }
      ]
    },
    {
      "cell_type": "code",
      "source": [
        "#Importing the smm package and setting a random seed for reproducibility\n",
        "import smm\n",
        "seed = 123\n",
        "np.random.seed(seed)"
      ],
      "metadata": {
        "id": "UACX7Au0wb7F"
      },
      "execution_count": null,
      "outputs": []
    },
    {
      "cell_type": "code",
      "source": [
        "#Fitting 1 component Student-t Mixture Model\n",
        "\n",
        "tmm1 = smm.SMM(n_components=1, covariance_type='full', random_state=seed, tol=1e-6, \n",
        "    min_covar=1e-6, n_iter=1000, n_init=1, params='wmcd', init_params='wmcd')\n",
        "tmm1.fit(inp)\n",
        "fig, ax = plt.subplots()\n",
        "counts, bins, bars = ax.hist(temp,weights=np.ones(len(temp)) / len(temp),ec=\"black\") \n",
        "x= temp\n",
        "y = np.exp(tmm1.score_samples(inp)[0])\n",
        "y=y*max(counts)/max(y)*(counts[0]/max(counts)) #This line normalizes the y-values of the curve so we can compare the histogram and fitted curve on the same scale\n",
        "x,y = zip(*sorted(zip(x,y),key=lambda x: x[0]))\n",
        "ax.plot(x,y,\"-k\")\n",
        "plt.title(\"CDH1\")\n",
        "plt.xlabel(\"log2 (expression value)\")\n",
        "plt.ylabel(\"Fraction of Samples\")\n",
        "print(\"Student-t Mixture Model BIC (1 Component) \" + str(tmm1.bic(inp)))\n",
        "print(\"Student-t Mixture Model ALS (1 Component) \" + str(ls_metric(y,bins)))\n",
        "print(\"Student-t Mixture Model AUD (1 Component) \" + str(ar_metric(bins,counts,x,y)))\n",
        "plt.show()"
      ],
      "metadata": {
        "colab": {
          "base_uri": "https://localhost:8080/",
          "height": 347
        },
        "id": "9Tf_5w4YxsZc",
        "outputId": "fc6a7ade-061a-4f42-bac1-0f42aaf2721c"
      },
      "execution_count": null,
      "outputs": [
        {
          "output_type": "stream",
          "name": "stdout",
          "text": [
            "Student-t Mixture Model BIC (1 Component) -27.9464304870602\n",
            "Student-t Mixture Model ALS (1 Component) 1.6296742240355626\n",
            "Student-t Mixture Model AUD (1 Component) -0.3636131036113492\n"
          ]
        },
        {
          "output_type": "display_data",
          "data": {
            "text/plain": [
              "<Figure size 432x288 with 1 Axes>"
            ],
            "image/png": "[encoded data removed]"
          },
          "metadata": {
            "needs_background": "light"
          }
        }
      ]
    },
    {
      "cell_type": "code",
      "source": [
        "#Fitting 2 component Student-t Mixture Model\n",
        "\n",
        "tmm2 = smm.SMM(n_components=2, covariance_type='full', random_state=seed, tol=1e-6, \n",
        "    min_covar=1e-6, n_iter=1000, n_init=1, params='wmcd', init_params='wmcd')\n",
        "tmm2.fit(inp)\n",
        "fig, ax = plt.subplots()\n",
        "counts, bins, bars = ax.hist(temp,weights=np.ones(len(temp)) / len(temp),ec=\"black\")\n",
        "x= temp\n",
        "y = np.exp(tmm2.score_samples(inp)[0])\n",
        "y=y*max(counts)/max(y)*(counts[0]/max(counts))\n",
        "x,y = zip(*sorted(zip(x,y),key=lambda x: x[0]))\n",
        "ax.plot(x,y,\"-k\")\n",
        "plt.title(\"CDH1\")\n",
        "plt.xlabel(\"log2 (expression value)\")\n",
        "plt.ylabel(\"Fraction of Samples\")\n",
        "print(\"Student-t Mixture Model BIC (2 Components) \" + str(tmm2.bic(inp)))\n",
        "print(\"Student-t Mixture Model ALS (2 Components) \" + str(ls_metric(y,bins)))\n",
        "print(\"Student-t Mixture Model AUD (2 Components) \" + str(ar_metric(bins,counts,x,y)))\n",
        "plt.show()"
      ],
      "metadata": {
        "colab": {
          "base_uri": "https://localhost:8080/",
          "height": 347
        },
        "id": "MFYwXLmcEKy-",
        "outputId": "39efd670-eb8d-4280-bed5-0a59cd21ab60"
      },
      "execution_count": null,
      "outputs": [
        {
          "output_type": "stream",
          "name": "stdout",
          "text": [
            "Student-t Mixture Model BIC (2 Components) -11.902826953216774\n",
            "Student-t Mixture Model ALS (2 Components) 1.6039264240359572\n",
            "Student-t Mixture Model AUD (2 Components) -0.3547809131346519\n"
          ]
        },
        {
          "output_type": "display_data",
          "data": {
            "text/plain": [
              "<Figure size 432x288 with 1 Axes>"
            ],
            "image/png": "[encoded data removed]"
          },
          "metadata": {
            "needs_background": "light"
          }
        }
      ]
    },
    {
      "cell_type": "code",
      "source": [
        "#Fitting 3 component Student-t Mixture Model\n",
        "\n",
        "tmm3 = smm.SMM(n_components=3, covariance_type='full', random_state=seed, tol=1e-6, \n",
        "    min_covar=1e-6, n_iter=1000, n_init=1, params='wmcd', init_params='wmcd')\n",
        "tmm3.fit(inp)\n",
        "fig, ax = plt.subplots()\n",
        "counts, bins, bars = ax.hist(temp,weights=np.ones(len(temp)) / len(temp),ec=\"black\")\n",
        "x= temp\n",
        "y = np.exp(tmm3.score_samples(inp)[0])\n",
        "y=y*max(counts)/max(y)*(counts[0]/max(counts))\n",
        "x,y = zip(*sorted(zip(x,y),key=lambda x: x[0]))\n",
        "ax.plot(x,y,\"-k\")\n",
        "plt.title(\"CDH1\")\n",
        "plt.xlabel(\"log2 (expression value)\")\n",
        "plt.ylabel(\"Fraction of Samples\")\n",
        "print(\"Student-t Mixture Model BIC (3 Components) \" + str(tmm3.bic(inp)))\n",
        "print(\"Student-t Mixture Model ALS (3 Components) \" + str(ls_metric(y,bins)))\n",
        "print(\"Student-t Mixture Model AUD (3 Components) \" + str(ar_metric(bins,counts,x,y)))\n",
        "plt.show()"
      ],
      "metadata": {
        "colab": {
          "base_uri": "https://localhost:8080/",
          "height": 347
        },
        "id": "jnR__7mzE1dq",
        "outputId": "33222fde-eb1d-4336-bd98-d937dd150d99"
      },
      "execution_count": null,
      "outputs": [
        {
          "output_type": "stream",
          "name": "stdout",
          "text": [
            "Student-t Mixture Model BIC (3 Components) 5.0848815308331865\n",
            "Student-t Mixture Model ALS (3 Components) 1.6057158129258977\n",
            "Student-t Mixture Model AUD (3 Components) -0.3557288186269985\n"
          ]
        },
        {
          "output_type": "display_data",
          "data": {
            "text/plain": [
              "<Figure size 432x288 with 1 Axes>"
            ],
            "image/png": "[encoded data removed]"
          },
          "metadata": {
            "needs_background": "light"
          }
        }
      ]
    },
    {
      "cell_type": "markdown",
      "source": [
        "# Weighted Average (of Gaussian and Student-t) Mixture Model"
      ],
      "metadata": {
        "id": "cMLMg3GTTDBv"
      }
    },
    {
      "cell_type": "code",
      "source": [
        "#Analytic process to determine weights\n",
        "counts, bins, bars = ax.hist(temp,weights=np.ones(len(temp)) / len(temp),ec=\"black\")\n",
        "x= temp\n",
        "#Using 2 component Gaussian (as this was best Gaussian fit from above)\n",
        "yg = np.exp(gmm2.score_samples(inp))\n",
        "yg = yg*max(counts)/max(yg)\n",
        "xg,yg = zip(*sorted(zip(x,yg),key=lambda x: x[0]))\n",
        "#Using 3 component student-t (as this was best student-t fit from above)\n",
        "yt = np.exp(tmm3.score_samples(inp)[0])\n",
        "yt=yt*max(counts)/max(yt)*(counts[0]/max(counts))\n",
        "x,yt = zip(*sorted(zip(x,yt),key=lambda x: x[0]))"
      ],
      "metadata": {
        "id": "7GlZbIxKkQKa"
      },
      "execution_count": null,
      "outputs": []
    },
    {
      "cell_type": "code",
      "source": [
        "#Analytic process to determine weights\n",
        "\n",
        "#1. Keep 2 “running scores” across the dataset, one for the Gaussian mixture and one for the student-t mixture.\n",
        "#2. For each datapoint, calculate the ALS metric for each of the two fits. Choose min(ALS_Gaussian, ALS_t), and add that to the corresponding running score.\n",
        "#3. Normalize the running scores so they sum to 1, and use them as weights.\n",
        "\n",
        "#Initialize running scores\n",
        "gw = 0 #Gaussian running score\n",
        "tw = 0 #Student-t running score\n",
        "for i in range(len(temp)):\n",
        "  ind = find_ind(temp[i],bins)\n",
        "  gls = (abs(counts[ind]-yg[i])**2)\n",
        "  tls = (abs(counts[ind]-yt[i])**2)\n",
        "  #Determining min of ALS metrics and adding to corresponding running score\n",
        "  if gls <= tls:\n",
        "    gw += gls\n",
        "  else:\n",
        "    tw += tls\n",
        "#Normalizing runnning scores so they sum to 1\n",
        "gwe = gw/(gw+tw)\n",
        "twe = tw/(gw+tw)\n",
        "#Inverting running scores so greater running score (which denotes worse fit) corresponds to lower weight and vice versa\n",
        "gwe = 1-gwe\n",
        "twe = 1-twe\n",
        "print(gwe)\n",
        "print(twe)"
      ],
      "metadata": {
        "colab": {
          "base_uri": "https://localhost:8080/"
        },
        "id": "iZxpWrLUmOym",
        "outputId": "9dcfb7a8-c883-472a-8547-56434b4db6d3"
      },
      "execution_count": null,
      "outputs": [
        {
          "output_type": "stream",
          "name": "stdout",
          "text": [
            "0.581588430698612\n",
            "0.418411569301388\n"
          ]
        }
      ]
    },
    {
      "cell_type": "code",
      "source": [
        "#Fitting weighted average mixture model\n",
        "\n",
        "fig, ax = plt.subplots()\n",
        "counts, bins, bars = ax.hist(temp,weights=np.ones(len(temp)) / len(temp),ec=\"black\")\n",
        "x= temp\n",
        "w1 = gwe\n",
        "w2 = twe\n",
        "y = np.exp(np.average([gmm2.score_samples(inp),tmm3.score_samples(inp)[0]],axis=0,weights=[w1,w2]))\n",
        "y = y*(max(counts)/max(y))\n",
        "x,y = zip(*sorted(zip(x,y),key=lambda x: x[0]))\n",
        "ax.plot(x,y,\"-k\")\n",
        "plt.title(\"CDH1\")\n",
        "plt.xlabel(\"log2 (expression value)\")\n",
        "plt.ylabel(\"Fraction of Samples\")\n",
        "print(\"Weighted Average Mixture Model BIC: \" + str(w1*tmm3.bic(inp) + w2*gmm2.bic(inp)))\n",
        "print(\"Weighted Average Mixture Model ALS: \" + str(ls_metric(y,bins)))\n",
        "print(\"Weighted Average Mixture Model AUD: \" + str(ar_metric(bins,counts,x,y)))\n",
        "plt.show()"
      ],
      "metadata": {
        "colab": {
          "base_uri": "https://localhost:8080/",
          "height": 347
        },
        "id": "oWaAWJxfslJW",
        "outputId": "099866f8-489c-46d3-aa4c-08f2f78d6a3c"
      },
      "execution_count": null,
      "outputs": [
        {
          "output_type": "stream",
          "name": "stdout",
          "text": [
            "Weighted Average Mixture Model BIC: 114.52336338327052\n",
            "Weighted Average Mixture Model ALS: 0.04101324888169494\n",
            "Weighted Average Mixture Model AUD: 0.07346078013832269\n"
          ]
        },
        {
          "output_type": "display_data",
          "data": {
            "text/plain": [
              "<Figure size 432x288 with 1 Axes>"
            ],
            "image/png": "[encoded data removed]"
          },
          "metadata": {
            "needs_background": "light"
          }
        }
      ]
    }
  ]
}